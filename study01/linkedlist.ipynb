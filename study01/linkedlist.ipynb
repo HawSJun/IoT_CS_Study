{
 "cells": [
  {
   "cell_type": "markdown",
   "metadata": {},
   "source": [
    "### 연결 리스트(LinkedList)\n",
    "\n",
    "<img src=\"https://img1.daumcdn.net/thumb/R1280x0/?scode=mtistory2&fname=https%3A%2F%2Fblog.kakaocdn.net%2Fdn%2FbpIUtZ%2FbtrSIQx8P67%2FkD409zprcWVlhLKrEdYPvK%2Fimg.png\" width=\"700\">\n",
    "\n",
    "-  데이터를 연속된 메모리 공간에 저장하지 않고, 각 데이터가 다음 데이터의 위치를 가리키는 방식으로 구성된 선형 자료 구조\n",
    "- 각 데이터 단위를 **노드**라고 함."
   ]
  },
  {
   "cell_type": "markdown",
   "metadata": {},
   "source": [
    "#### 연결 리스트 구조\n",
    "\n",
    "<img src=\"https://wikidocs.net/images/page/224937/fig-016_.png\" width=\"500\">\n",
    "\n",
    "- 각 노드는 값과 다음 노드의 주소(참조)를 저장\n",
    "- **head**는 연결 리스트의 첫 번째 노드를 가리키며, 연결 리스트에 접근하기 위한 시작점 역할"
   ]
  },
  {
   "cell_type": "markdown",
   "metadata": {},
   "source": [
    "### 연결 리스트의 특징\n",
    "- 동적 크기\n",
    "- 삽입과 삭제가 쉬움 \n",
    "- 메모리 효율성"
   ]
  },
  {
   "cell_type": "markdown",
   "metadata": {},
   "source": [
    "- 새(new) 노드 추가\n",
    "\n",
    "<img src=\"https://blog.kakaocdn.net/dn/cuHE3B/btrSM3JVd3N/lowCt8kKd7iSMQXkXURDY1/img.gif\" width=\"300\">"
   ]
  }
 ],
 "metadata": {
  "kernelspec": {
   "display_name": "3.11.9",
   "language": "python",
   "name": "python3"
  },
  "language_info": {
   "codemirror_mode": {
    "name": "ipython",
    "version": 3
   },
   "file_extension": ".py",
   "mimetype": "text/x-python",
   "name": "python",
   "nbconvert_exporter": "python",
   "pygments_lexer": "ipython3",
   "version": "3.11.9"
  }
 },
 "nbformat": 4,
 "nbformat_minor": 2
}
