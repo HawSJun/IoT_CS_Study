{
 "cells": [
  {
   "cell_type": "markdown",
   "metadata": {},
   "source": [
    "## 1\n",
    "#### 아래는 클럽에 입장하려는 사람들의 나이를 순서대로 담은 리스트입니다.\n",
    "#### *19세 미만의 사람은 5명으로 고정적입니다.*\n",
    "#### 이 중 19살 이하의 나이를 가진 사람을 입구컷 시키는 로직을 작성하세요.\n",
    "#### 팁1. sort  +  리스트 슬라이싱 ex) list[0:3] 을 활용하여 푸는 알고리즘\n",
    "#### 팁2. for문, 그리고 if 문을 활용한 알고리즘"
   ]
  },
  {
   "cell_type": "code",
   "execution_count": 5,
   "metadata": {},
   "outputs": [
    {
     "name": "stdout",
     "output_type": "stream",
     "text": [
      "입구 Cut :  [12, 13, 15, 17, 18]\n"
     ]
    }
   ],
   "source": [
    "# sort + 슬라이싱 사용\n",
    "\n",
    "ages = [18, 20, 17, 15, 13, 12, 21, 24, 33]\n",
    "\n",
    "def ipguCut(input):\n",
    "    result = []\n",
    "\n",
    "    ages.sort()\n",
    "\n",
    "    result = input[:5]\n",
    "\n",
    "    return result\n",
    "\n",
    "print(\"입구 Cut : \", ipguCut(ages))\n"
   ]
  },
  {
   "cell_type": "code",
   "execution_count": 6,
   "metadata": {},
   "outputs": [
    {
     "name": "stdout",
     "output_type": "stream",
     "text": [
      "입구 컷 :  [12, 13, 15, 17, 18]\n",
      "입장 Go :  [20, 21, 24, 33]\n"
     ]
    }
   ],
   "source": [
    "# for문, if문 사용\n",
    "\n",
    "ages = [18, 20, 17, 15, 13, 12, 21, 24, 33]\n",
    "\n",
    "def ipguCut(input):\n",
    "    result = [] \n",
    "    cut = []\n",
    "\n",
    "    ages.sort()\n",
    "    \n",
    "    for age in input:\n",
    "        if age >= 19:\n",
    "            result.append(age)\n",
    "        else:\n",
    "            cut.append(age)\n",
    "\n",
    "    print(\"입구 컷 : \", cut)\n",
    "    return result\n",
    "\n",
    "print(\"입장 Go : \", ipguCut(ages))\n"
   ]
  },
  {
   "cell_type": "markdown",
   "metadata": {},
   "source": [
    "## 2\n",
    "##### 리스트 컴프리핸션을 활용해서 1~10까지 숫자를 담은 리스트를 작성하고 출력해보세요.\n",
    "##### 리스트 컴프리핸션이란 ? ex) a = [i for i in list] 이런 모양의 리스트입니다."
   ]
  },
  {
   "cell_type": "code",
   "execution_count": 38,
   "metadata": {},
   "outputs": [
    {
     "name": "stdout",
     "output_type": "stream",
     "text": [
      "[1, 2, 3, 4, 5, 6, 7, 8, 9, 10]\n"
     ]
    }
   ],
   "source": [
    "result = [i for i in range(1, 11)]\n",
    "print(result)"
   ]
  },
  {
   "cell_type": "markdown",
   "metadata": {},
   "source": [
    "## 3\n",
    "#### 여기서 list2.clear() 를 했음에도 불구하고 list1의 출력값이 []가 된 이유는 뭘까? \n",
    "#### 깊은복사와 **얕은복사**"
   ]
  },
  {
   "cell_type": "code",
   "execution_count": null,
   "metadata": {},
   "outputs": [
    {
     "name": "stdout",
     "output_type": "stream",
     "text": [
      "[]\n"
     ]
    }
   ],
   "source": [
    "# 앝은복사는 \n",
    "list1 = [1,2,3,4,5]\n",
    "list2 = list1\n",
    "\n",
    "list2.clear()\n",
    "print(list1)"
   ]
  },
  {
   "cell_type": "markdown",
   "metadata": {},
   "source": [
    "## 4\n",
    "#### [1, 3, 5, 7, 9 .....] 와같이 정수 n 을 입력하면 1부터 n까지의 홀수만 반환하는 함수를 작성하세요.\n",
    "#### 팁1. 리스트 컴프리핸션 활용\n",
    "#### 팁2. for문과 if문 활용"
   ]
  },
  {
   "cell_type": "code",
   "execution_count": 87,
   "metadata": {},
   "outputs": [
    {
     "name": "stdout",
     "output_type": "stream",
     "text": [
      "[1, 3]\n",
      "[1, 3, 5, 7]\n"
     ]
    }
   ],
   "source": [
    "# 리스트 컴프리헨션\n",
    "\n",
    "def oddList(n):\n",
    "\n",
    "    answer = [i for i in range(n) if i % 2 != 0 ]  # if (i + 1) % 2 == 0\n",
    "\n",
    "    return answer\n",
    "\n",
    "print(oddList(5)) # 결과 : [1,3]\n",
    "print(oddList(8)) # 결과 : [1,3,5,7]"
   ]
  },
  {
   "cell_type": "code",
   "execution_count": 113,
   "metadata": {},
   "outputs": [
    {
     "name": "stdout",
     "output_type": "stream",
     "text": [
      "[1, 3]\n",
      "[1, 3, 5, 7]\n"
     ]
    }
   ],
   "source": [
    "# for문 if문 사용\n",
    "\n",
    "def oddList(n):\n",
    "    answer = []\n",
    "    for i in range(n):\n",
    "        if (i + 1) % 2 == 0:\n",
    "            answer.append(i)\n",
    "    return answer\n",
    "print(oddList(5)) # 결과 : [1,3]\n",
    "print(oddList(8)) # 결과 : [1,3,5,7]\n"
   ]
  },
  {
   "cell_type": "markdown",
   "metadata": {},
   "source": [
    "## 5\n",
    "#### 반갑습니다 를 notice 변수를 활용하여 출력하시오."
   ]
  },
  {
   "cell_type": "code",
   "execution_count": 74,
   "metadata": {},
   "outputs": [
    {
     "name": "stdout",
     "output_type": "stream",
     "text": [
      "반갑습니다\n"
     ]
    }
   ],
   "source": [
    "notice = \"다니습갑반\"\n",
    "result = \"\"\n",
    "for i in range(len(notice) - 1, -1, -1): # i 는 문자열 notice 의 마지막 인덱스에서 0 까지 -1씩 감소한다는 뜻\n",
    "    result += notice[i]     # result = result + notice[i]\n",
    "    # print(i)\n",
    "print(result)"
   ]
  },
  {
   "cell_type": "markdown",
   "metadata": {},
   "source": [
    "## 6\n",
    "#### 버블 정렬을 활용하여 직접 커스텀 sort 함수 만들어보기"
   ]
  },
  {
   "cell_type": "code",
   "execution_count": null,
   "metadata": {},
   "outputs": [],
   "source": [
    "six = [3,2,7,5,9]\n",
    "def my_sort(lst = list):\n",
    "    # 버블정렬 알고리즘\n",
    "    # 리스트의 첫번째 요소와 두번째 요소를 비교하고, 첫번째 < 두번째 = False 라면 서로 교환\n",
    "    # 두번째 요소와 세번째 요소를 비교하고 두번째 < 세번째 = False 라면 서로 교환\n",
    "    # 다음은 세번째 와 네번째 ..... 에서 끝까지 비교 진행 하는 것이 1사이클\n",
    "    # 이 사이클을 len(list) - 1 만큼 반복\n",
    "    # 여기에 구현\n",
    "    pass\n",
    "print(my_sort(six))"
   ]
  }
 ],
 "metadata": {
  "kernelspec": {
   "display_name": "3.11.9",
   "language": "python",
   "name": "python3"
  },
  "language_info": {
   "codemirror_mode": {
    "name": "ipython",
    "version": 3
   },
   "file_extension": ".py",
   "mimetype": "text/x-python",
   "name": "python",
   "nbconvert_exporter": "python",
   "pygments_lexer": "ipython3",
   "version": "3.11.9"
  }
 },
 "nbformat": 4,
 "nbformat_minor": 2
}
