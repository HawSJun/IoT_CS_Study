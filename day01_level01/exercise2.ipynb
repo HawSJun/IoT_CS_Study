{
 "cells": [
  {
   "cell_type": "markdown",
   "metadata": {},
   "source": [
    "#### 1. 250 부터 0까지 50 간격으로 출력하시오.\n",
    "#### 결과 : 250 200 150 100 50 0"
   ]
  },
  {
   "cell_type": "code",
   "execution_count": 4,
   "metadata": {},
   "outputs": [
    {
     "name": "stdout",
     "output_type": "stream",
     "text": [
      "250 200 150 100 50 0 "
     ]
    }
   ],
   "source": [
    "for i in range(250, -1, -50):\n",
    "    print(i, end=' ') ## 출력 줄바꿈 없애기"
   ]
  },
  {
   "cell_type": "markdown",
   "metadata": {},
   "source": [
    "#### 2. 100 부터 400 까지 100 간격으로 출력하시오.\n",
    "#### 결과 : 100 200 300 400"
   ]
  },
  {
   "cell_type": "code",
   "execution_count": 14,
   "metadata": {},
   "outputs": [
    {
     "name": "stdout",
     "output_type": "stream",
     "text": [
      "100 200 300 400 "
     ]
    }
   ],
   "source": [
    "for i in range(100, 401, 100):\n",
    "    print(i, end=' ')"
   ]
  },
  {
   "cell_type": "markdown",
   "metadata": {},
   "source": [
    "#### 3. 200 부터 -200 까지 20 간격으로 출력하시오.\n",
    "#### 결과 : 200 180 160 140 120 100 80 60 40 20 0 -20 -40 -60 -80 -100 -120 -140 -160 -180 -200"
   ]
  },
  {
   "cell_type": "code",
   "execution_count": 6,
   "metadata": {},
   "outputs": [
    {
     "name": "stdout",
     "output_type": "stream",
     "text": [
      "200 180 160 140 120 100 80 60 40 20 0 -20 -40 -60 -80 -100 -120 -140 -160 -180 -200 "
     ]
    }
   ],
   "source": [
    "for i in range(200, -201, -20):\n",
    "    print(i, end=' ')"
   ]
  },
  {
   "cell_type": "markdown",
   "metadata": {},
   "source": [
    "#### 4. 샘플 리스트를 꺼내서 출력해보세요.\n",
    "#### 결과 : 10 20 30 40 50 60 70 80"
   ]
  },
  {
   "cell_type": "code",
   "execution_count": 7,
   "metadata": {},
   "outputs": [
    {
     "name": "stdout",
     "output_type": "stream",
     "text": [
      "10 20 30 40 50 60 70 80 "
     ]
    }
   ],
   "source": [
    "sample2 = [10,20,30,40,50,60,70,80]\n",
    "\n",
    "for i in sample2:\n",
    "    print(i, end=' ')"
   ]
  },
  {
   "cell_type": "markdown",
   "metadata": {},
   "source": [
    "##### 5. 샘플 리스트의 각 요소에 *3 을 한 값을 출력하세요.\n",
    "#### 결과 : [3, 9, 15, 21, 27]"
   ]
  },
  {
   "cell_type": "code",
   "execution_count": 17,
   "metadata": {},
   "outputs": [
    {
     "name": "stdout",
     "output_type": "stream",
     "text": [
      "3 9 15 21 27 "
     ]
    }
   ],
   "source": [
    "sample = [1,3,5,7,9]\n",
    "\n",
    "for i in sample: \n",
    "    print(i * 3, end=' ')"
   ]
  },
  {
   "cell_type": "code",
   "execution_count": 22,
   "metadata": {},
   "outputs": [
    {
     "name": "stdout",
     "output_type": "stream",
     "text": [
      "[3, 9, 15, 21, 27]\n"
     ]
    }
   ],
   "source": [
    "sample = [1,3,5,7,9]\n",
    "result = []\n",
    "\n",
    "for i in sample:\n",
    "    result.append(i * 3)\n",
    "    \n",
    "print(result)"
   ]
  },
  {
   "cell_type": "code",
   "execution_count": null,
   "metadata": {},
   "outputs": [
    {
     "name": "stdout",
     "output_type": "stream",
     "text": [
      "[3, 9, 15, 21, 27]\n"
     ]
    }
   ],
   "source": [
    "sample = [1,3,5,7,9]\n",
    "\n",
    "result = [i * 3 for i in sample]\n",
    "print(result)"
   ]
  },
  {
   "cell_type": "markdown",
   "metadata": {},
   "source": [
    "#### 챌린지 1, 아래 변수명에 들어갈 변수를 잘 찾아 넣어봅시다.\n",
    "#### 그리고 어떻게 동작할 지 생각해봅시다.\n",
    "#### 결과 : 인덱스0 : 20 인덱스1 : 30 인덱스2 : 40 인덱스3 : 50"
   ]
  },
  {
   "cell_type": "code",
   "execution_count": 1,
   "metadata": {},
   "outputs": [
    {
     "name": "stdout",
     "output_type": "stream",
     "text": [
      "인덱스0 : 20 인덱스1 : 30 인덱스2 : 40 인덱스3 : 50 "
     ]
    }
   ],
   "source": [
    "sample3 = [[0,20],[1,30],[2,40],[3,50]]  # sample3 = [0] : [0,20]\n",
    "                                         # sample3 = [0][0] : [0]  \n",
    "                                         # sample3 = [0][1] : [20]         \n",
    "for idx, value in sample3:\n",
    "    print(f'인덱스{idx} : {value}', end=' ')"
   ]
  },
  {
   "cell_type": "markdown",
   "metadata": {},
   "source": [
    "##### 챌린지 2, 이거 풀면 실력 +1.2\n",
    "##### enumerate 메서드 : 리스트의 요소에 인덱스를 붙혀서 반환해주는 무언가."
   ]
  },
  {
   "cell_type": "code",
   "execution_count": null,
   "metadata": {},
   "outputs": [
    {
     "name": "stdout",
     "output_type": "stream",
     "text": [
      "인덱스1 : 20 인덱스2 : 30 인덱스3 : 40 인덱스4 : 50 "
     ]
    }
   ],
   "source": [
    "sample4 = [20,30,40,50]\n",
    "for idx, value in enumerate(sample4, start=1):\n",
    "    print(f'인덱스{idx} : {value}', end=' ')\n",
    "\n",
    "# enumerate() : 반복 가능한(iterable) 객체(리스트, 튜플, 문자열 등)에 대해 인덱스와 값을 함께 반환하는 함수\n",
    "# 주로 for문과 함께 사용하여 반복문 내에서 각 항목의 인덱스와 값을 동시에 처리\n",
    "# enumerate(iterable, start=0)\n",
    "# iterable : 순회할 수 있는 객체(리스트, 튜플, 문자열 등)\n",
    "# start : 인덱스를 시작할 번호를 지정하는 선택적 인자(기본값은 0)"
   ]
  }
 ],
 "metadata": {
  "kernelspec": {
   "display_name": "3.11.9",
   "language": "python",
   "name": "python3"
  },
  "language_info": {
   "codemirror_mode": {
    "name": "ipython",
    "version": 3
   },
   "file_extension": ".py",
   "mimetype": "text/x-python",
   "name": "python",
   "nbconvert_exporter": "python",
   "pygments_lexer": "ipython3",
   "version": "3.11.9"
  }
 },
 "nbformat": 4,
 "nbformat_minor": 2
}
